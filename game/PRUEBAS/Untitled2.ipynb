{
 "cells": [
  {
   "cell_type": "code",
   "execution_count": null,
   "metadata": {},
   "outputs": [],
   "source": [
    "import random\n",
    "words_list = [\"python\", 'ironhack', 'dog', 'cat', 'mint', 'earth', 'bottle', 'book', 'android', 'pen',\n",
    "         'computer', 'glasses', 'cork', 'bicycle', 'guitar', 'screwdriver']\n",
    "\n",
    "def randomword(): ### La función escogera aleatoriamente una palabra de la lista (words_list)\n",
    "    chosen_word = random.choice(words_list)\n",
    "    return chosen_word\n",
    "\n",
    "def game(x):\n",
    "    \n",
    "    hide_word = \"-\"*len(chosen_word) ### Ocultamos la palabra, multiplicando los guiones como letras tenga la palabra elegida\n",
    "    "
   ]
  }
 ],
 "metadata": {
  "kernelspec": {
   "display_name": "Python 3",
   "language": "python",
   "name": "python3"
  },
  "language_info": {
   "codemirror_mode": {
    "name": "ipython",
    "version": 3
   },
   "file_extension": ".py",
   "mimetype": "text/x-python",
   "name": "python",
   "nbconvert_exporter": "python",
   "pygments_lexer": "ipython3",
   "version": "3.8.3"
  }
 },
 "nbformat": 4,
 "nbformat_minor": 4
}
