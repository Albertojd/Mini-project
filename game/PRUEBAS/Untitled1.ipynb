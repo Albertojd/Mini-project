{
 "cells": [
  {
   "cell_type": "code",
   "execution_count": null,
   "metadata": {},
   "outputs": [],
   "source": [
    "import random\n",
    "gallow = ['''\n",
    "      +---+\n",
    "      |   |\n",
    "          |\n",
    "          |\n",
    "          |\n",
    "          |\n",
    "    =========''', '''\n",
    "      +---+\n",
    "      |   |\n",
    "      O   |\n",
    "          |\n",
    "          |\n",
    "          |\n",
    "    =========''', '''\n",
    "      +---+\n",
    "      |   |\n",
    "      O   |\n",
    "      |   |\n",
    "          |\n",
    "          |\n",
    "    =========''', '''\n",
    "      +---+\n",
    "      |   |\n",
    "      O   |\n",
    "     /|   |\n",
    "          |\n",
    "          |\n",
    "    =========''', '''\n",
    "      +---+\n",
    "      |   |\n",
    "      O   |\n",
    "     /|\\  |\n",
    "          |\n",
    "          |\n",
    "    =========''', '''\n",
    "      +---+\n",
    "      |   |\n",
    "      O   |\n",
    "     /|\\  |\n",
    "     /    |\n",
    "          |\n",
    "    =========''', '''\n",
    "      +---+\n",
    "      |   |\n",
    "      O   |\n",
    "     /|\\  |\n",
    "     / \\  |\n",
    "          |\n",
    "    =========''']"
   ]
  },
  {
   "cell_type": "code",
   "execution_count": 3,
   "metadata": {},
   "outputs": [],
   "source": [
    "words = [\"python\", 'ironhack', 'dog', 'cat', 'mint', 'earth', 'bottle', 'book', 'android', 'pen',\n",
    "         'computer', 'glasses', 'cork', 'bicycle', 'guitar', 'screwdriver']\n",
    "def getRandomWord(wordList):\n",
    "    chosen_word = random.choice(wordList)\n",
    "    return chosen_word\n",
    "\n",
    "def game(missed_letters, correct_letters, hide_word):\n",
    "    print(gallow([len(missed_letters)]))\n",
    "    \n",
    "    \n",
    "    print('Missed letters:', end=' ')\n",
    "    for letter in missed_letters:\n",
    "        print(letter, end=' ')\n",
    "        \n",
    "        \n",
    "    blanks = '_' * len(hide_word)\n",
    "    \n",
    "    for i in range(len(hide_word)): # Replace blanks with correctly guessed letters.\n",
    "        if hide_word[i] in correct_letters:\n",
    "            blanks = blanks[:i] + hide_word[i] + blanks[i+1:]\n",
    "            \n",
    "    for letter in blanks: # Show the secret word with spaces in between each letter.\n",
    "        print(letter, end=' ')\n",
    "      "
   ]
  },
  {
   "cell_type": "code",
   "execution_count": 4,
   "metadata": {},
   "outputs": [
    {
     "ename": "NameError",
     "evalue": "name 'missed_letters' is not defined",
     "output_type": "error",
     "traceback": [
      "\u001b[1;31m---------------------------------------------------------------------------\u001b[0m",
      "\u001b[1;31mNameError\u001b[0m                                 Traceback (most recent call last)",
      "\u001b[1;32m<ipython-input-4-f72172576d27>\u001b[0m in \u001b[0;36m<module>\u001b[1;34m\u001b[0m\n\u001b[1;32m----> 1\u001b[1;33m \u001b[0mgame\u001b[0m\u001b[1;33m(\u001b[0m\u001b[0mmissed_letters\u001b[0m\u001b[1;33m,\u001b[0m \u001b[0mcorrect_letters\u001b[0m\u001b[1;33m,\u001b[0m \u001b[0mhide_word\u001b[0m\u001b[1;33m)\u001b[0m\u001b[1;33m\u001b[0m\u001b[1;33m\u001b[0m\u001b[0m\n\u001b[0m",
      "\u001b[1;31mNameError\u001b[0m: name 'missed_letters' is not defined"
     ]
    }
   ],
   "source": [
    "game(missed_letters, correct_letters, hide_word)"
   ]
  },
  {
   "cell_type": "code",
   "execution_count": 7,
   "metadata": {},
   "outputs": [],
   "source": [
    "word = \"hola\"\n",
    "hide_word = \"-\"*len(word) ### Para "
   ]
  },
  {
   "cell_type": "code",
   "execution_count": 8,
   "metadata": {},
   "outputs": [
    {
     "data": {
      "text/plain": [
       "'----'"
      ]
     },
     "execution_count": 8,
     "metadata": {},
     "output_type": "execute_result"
    }
   ],
   "source": [
    "hide_word"
   ]
  },
  {
   "cell_type": "code",
   "execution_count": null,
   "metadata": {},
   "outputs": [],
   "source": []
  }
 ],
 "metadata": {
  "kernelspec": {
   "display_name": "Python 3",
   "language": "python",
   "name": "python3"
  },
  "language_info": {
   "codemirror_mode": {
    "name": "ipython",
    "version": 3
   },
   "file_extension": ".py",
   "mimetype": "text/x-python",
   "name": "python",
   "nbconvert_exporter": "python",
   "pygments_lexer": "ipython3",
   "version": "3.8.3"
  }
 },
 "nbformat": 4,
 "nbformat_minor": 4
}
